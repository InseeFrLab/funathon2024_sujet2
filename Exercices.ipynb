{
 "cells": [
  {
   "cell_type": "code",
   "execution_count": null,
   "metadata": {},
   "outputs": [],
   "source": [
    "import yaml\n",
    "with open(\"sources.yml\", 'r') as f:\n",
    "    yaml_data = yaml.load(f, Loader=yaml.FullLoader)\n",
    "\n",
    "print(yaml_data[\"airports\"])\n",
    "\n"
   ]
  },
  {
   "cell_type": "code",
   "execution_count": null,
   "metadata": {},
   "outputs": [],
   "source": [
    "def create_data_list(source_file):\n",
    "    with open(source_file, 'r') as f:\n",
    "        yaml_data = yaml.safe_load(f)\n",
    "    \n",
    "    return(yaml_data)\n",
    "\n",
    "\n",
    "yaml_data = create_data_list(\"sources.yml\")"
   ]
  },
  {
   "cell_type": "code",
   "execution_count": null,
   "metadata": {},
   "outputs": [],
   "source": [
    "from src.create_data_list import create_data_list\n",
    "urls = create_data_list(\"sources.yml\")"
   ]
  },
  {
   "cell_type": "code",
   "execution_count": null,
   "metadata": {},
   "outputs": [],
   "source": [
    "import pandas as pd\n",
    "\n",
    "data = pd.read_csv(\n",
    "    yaml_data[\"airports\"][2018], \n",
    "    delimiter = ';',\n",
    "    dtype = {\n",
    "        \"ANMOIS\": \"str\",  \n",
    "        \"APT\": \"str\",     \n",
    "        \"APT_NOM\": \"str\", \n",
    "        \"APT_ZON\": \"str\",\n",
    "    }\n",
    ")\n",
    "\n",
    "data[\"an\"] = data[\"ANMOIS\"].str.slice(stop=4)\n",
    "data[\"mois\"] = data[\"ANMOIS\"].str.slice(start=4).str.replace('^0', '', regex=True)\n",
    "data.head()"
   ]
  },
  {
   "cell_type": "code",
   "execution_count": null,
   "metadata": {},
   "outputs": [],
   "source": [
    "def clean_dataframe(df):\n",
    "    df[\"an\"]   = df[\"ANMOIS\"].str.slice(stop=4)\n",
    "    df[\"mois\"] = df[\"ANMOIS\"].str.slice(start=4).str.replace('^0', '', regex=True)\n",
    "\n",
    "    df.columns = [x.lower() for x in df.columns]\n",
    "\n",
    "    return(df)"
   ]
  },
  {
   "cell_type": "code",
   "execution_count": null,
   "metadata": {},
   "outputs": [],
   "source": [
    "def import_airport_data(list_files):\n",
    "    \n",
    "    data = pd.concat([\n",
    "        pd.read_csv(\n",
    "            file, \n",
    "            delimiter = ';',\n",
    "            dtype = {\n",
    "                \"ANMOIS\":  \"str\",  \n",
    "                \"APT\":     \"str\",     \n",
    "                \"APT_NOM\": \"str\", \n",
    "                \"APT_ZON\": \"str\",\n",
    "            }\n",
    "        )\n",
    "        for file in list_files])\n",
    "\n",
    "\n",
    "    data_final = clean_dataframe(data)\n",
    "\n",
    "    return(data_final)\n",
    "\n",
    "pax_apt_all = import_airport_data(list(yaml_data[\"airports\"].values()))\n",
    "pax_apt_all.head()\n"
   ]
  },
  {
   "cell_type": "code",
   "execution_count": null,
   "metadata": {},
   "outputs": [],
   "source": [
    "# Exercice 3\n",
    "liste_aeroports = pax_apt_all['apt'].unique()\n",
    "default_airport = liste_aeroports[0]\n",
    "default_airport"
   ]
  },
  {
   "cell_type": "code",
   "execution_count": null,
   "metadata": {},
   "outputs": [],
   "source": [
    "\n",
    "pax_apt_all[\"trafic\"] = pax_apt_all[\"apt_pax_dep\"] + pax_apt_all[\"apt_pax_tr\"] + pax_apt_all[\"apt_pax_arr\"]\n",
    "\n",
    "pax_apt_all2 = pax_apt_all.query(\"apt == @default_airport\")\n",
    "\n"
   ]
  },
  {
   "cell_type": "code",
   "execution_count": null,
   "metadata": {},
   "outputs": [],
   "source": [
    "def import_compagnies_data(list_files):\n",
    "    # Define the data types for each column\n",
    "    col_types = {\n",
    "        \"ANMOIS\": \"str\",\n",
    "        \"CIE\": \"str\",\n",
    "        \"CIE_NOM\": \"str\",\n",
    "        \"CIE_NAT\": \"str\",\n",
    "        \"CIE_PAYS\": \"str\"\n",
    "    }\n",
    "\n",
    "    # Read the CSV file(s) with the specified column types\n",
    "    pax_cie_all = pd.read_csv(\n",
    "        list_files,\n",
    "        sep=\";\",\n",
    "        dtype=col_types\n",
    "    )\n",
    "\n",
    "    # Clean the DataFrame (assuming clean_dataframe is a predefined function)\n",
    "    pax_cie_all = clean_dataframe(pax_cie_all)\n",
    "\n",
    "    return pax_cie_all"
   ]
  },
  {
   "cell_type": "code",
   "execution_count": null,
   "metadata": {},
   "outputs": [],
   "source": [
    "test = import_compagnies_data(list(yaml_data[\"compagnies\"].values()))"
   ]
  },
  {
   "cell_type": "markdown",
   "metadata": {},
   "source": []
  },
  {
   "cell_type": "markdown",
   "metadata": {},
   "source": [
    "# Partie 3"
   ]
  },
  {
   "cell_type": "code",
   "execution_count": null,
   "metadata": {},
   "outputs": [],
   "source": [
    "import geopandas as gpd"
   ]
  },
  {
   "cell_type": "code",
   "execution_count": null,
   "metadata": {},
   "outputs": [],
   "source": [
    "airports_location = gpd.read_file(urls['geojson']['airport'])"
   ]
  },
  {
   "cell_type": "code",
   "execution_count": null,
   "metadata": {},
   "outputs": [],
   "source": [
    " airports_location.geometry.crs "
   ]
  },
  {
   "cell_type": "code",
   "execution_count": null,
   "metadata": {},
   "outputs": [],
   "source": [
    "import folium \n",
    "m = folium.Map()\n",
    "\n",
    "folium.GeoJson(airports_location).add_to(m)\n",
    "m"
   ]
  },
  {
   "cell_type": "code",
   "execution_count": null,
   "metadata": {},
   "outputs": [],
   "source": [
    "import requests\n",
    "\n",
    "m = folium.Map(tiles=\"cartodbpositron\")\n",
    "\n",
    "geojson_data = requests.get(\n",
    "    \"https://raw.githubusercontent.com/python-visualization/folium-example-data/main/world_countries.json\"\n",
    ").json()\n",
    "\n",
    "folium.GeoJson(geojson_data, name=\"hello world\").add_to(m)\n",
    "\n",
    "folium.LayerControl().add_to(m)"
   ]
  },
  {
   "cell_type": "code",
   "execution_count": null,
   "metadata": {},
   "outputs": [],
   "source": [
    "import src.import_data as sid"
   ]
  },
  {
   "cell_type": "code",
   "execution_count": null,
   "metadata": {},
   "outputs": [],
   "source": []
  },
  {
   "cell_type": "code",
   "execution_count": null,
   "metadata": {},
   "outputs": [],
   "source": []
  },
  {
   "cell_type": "code",
   "execution_count": null,
   "metadata": {},
   "outputs": [],
   "source": []
  },
  {
   "cell_type": "code",
   "execution_count": null,
   "metadata": {},
   "outputs": [],
   "source": []
  },
  {
   "cell_type": "code",
   "execution_count": null,
   "metadata": {},
   "outputs": [],
   "source": []
  },
  {
   "cell_type": "code",
   "execution_count": null,
   "metadata": {},
   "outputs": [],
   "source": []
  },
  {
   "cell_type": "code",
   "execution_count": null,
   "metadata": {},
   "outputs": [],
   "source": []
  },
  {
   "cell_type": "code",
   "execution_count": null,
   "metadata": {},
   "outputs": [],
   "source": []
  },
  {
   "cell_type": "code",
   "execution_count": null,
   "metadata": {},
   "outputs": [],
   "source": []
  },
  {
   "cell_type": "code",
   "execution_count": null,
   "metadata": {},
   "outputs": [],
   "source": []
  },
  {
   "cell_type": "code",
   "execution_count": null,
   "metadata": {},
   "outputs": [],
   "source": []
  },
  {
   "cell_type": "code",
   "execution_count": null,
   "metadata": {},
   "outputs": [],
   "source": []
  },
  {
   "cell_type": "code",
   "execution_count": null,
   "metadata": {},
   "outputs": [],
   "source": []
  }
 ],
 "metadata": {
  "kernelspec": {
   "display_name": "base",
   "language": "python",
   "name": "python3"
  },
  "language_info": {
   "codemirror_mode": {
    "name": "ipython",
    "version": 3
   },
   "file_extension": ".py",
   "mimetype": "text/x-python",
   "name": "python",
   "nbconvert_exporter": "python",
   "pygments_lexer": "ipython3",
   "version": "3.12.3"
  }
 },
 "nbformat": 4,
 "nbformat_minor": 2
}
