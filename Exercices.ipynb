{
 "cells": [
  {
   "cell_type": "code",
   "execution_count": null,
   "metadata": {},
   "outputs": [],
   "source": [
    "import yaml\n",
    "with open(\"sources.yml\", 'r') as f:\n",
    "    yaml_data = yaml.load(f, Loader=yaml.FullLoader)\n",
    "\n",
    "print(yaml_data[\"airports\"][2018])\n",
    "\n"
   ]
  },
  {
   "cell_type": "code",
   "execution_count": null,
   "metadata": {},
   "outputs": [],
   "source": [
    "def create_data_list(source_file):\n",
    "    with open(source_file, 'r') as f:\n",
    "        yaml_data = yaml.safe_load(f)\n",
    "    \n",
    "    return(yaml_data)\n",
    "\n",
    "\n",
    "yaml_data = create_data_list(\"sources.yml\")"
   ]
  },
  {
   "cell_type": "code",
   "execution_count": null,
   "metadata": {},
   "outputs": [],
   "source": [
    "from src.create_data_list import create_data_list\n",
    "urls = create_data_list(\"sources.yml\")"
   ]
  },
  {
   "cell_type": "code",
   "execution_count": null,
   "metadata": {},
   "outputs": [],
   "source": [
    "import pandas as pd\n",
    "\n",
    "data = pd.read_csv(\n",
    "    yaml_data[\"airports\"][2018], \n",
    "    delimiter = ';',\n",
    "    dtype = {\n",
    "        \"ANMOIS\": \"str\",  \n",
    "        \"APT\": \"str\",     \n",
    "        \"APT_NOM\": \"str\", \n",
    "        \"APT_ZON\": \"str\",\n",
    "    }\n",
    ")\n",
    "\n",
    "data[\"an\"] = data[\"ANMOIS\"].str.slice(stop=4)\n",
    "data[\"mois\"] = data[\"ANMOIS\"].str.slice(start=4).str.replace('^0', '', regex=True)\n",
    "data.head()"
   ]
  },
  {
   "cell_type": "code",
   "execution_count": null,
   "metadata": {},
   "outputs": [],
   "source": [
    "def clean_dataframe(df):\n",
    "    df[\"an\"]   = df[\"ANMOIS\"].str.slice(stop=4)\n",
    "    df[\"mois\"] = df[\"ANMOIS\"].str.slice(start=4).str.replace('^0', '', regex=True)\n",
    "\n",
    "    df.columns = [x.lower() for x in df.columns]\n",
    "\n",
    "    return(df)\n",
    "\n",
    "clean_dataframe(data)"
   ]
  },
  {
   "cell_type": "code",
   "execution_count": null,
   "metadata": {},
   "outputs": [],
   "source": []
  },
  {
   "cell_type": "code",
   "execution_count": null,
   "metadata": {},
   "outputs": [],
   "source": []
  },
  {
   "cell_type": "code",
   "execution_count": null,
   "metadata": {},
   "outputs": [],
   "source": []
  }
 ],
 "metadata": {
  "kernelspec": {
   "display_name": "base",
   "language": "python",
   "name": "python3"
  },
  "language_info": {
   "codemirror_mode": {
    "name": "ipython",
    "version": 3
   },
   "file_extension": ".py",
   "mimetype": "text/x-python",
   "name": "python",
   "nbconvert_exporter": "python",
   "pygments_lexer": "ipython3",
   "version": "3.12.3"
  }
 },
 "nbformat": 4,
 "nbformat_minor": 2
}
