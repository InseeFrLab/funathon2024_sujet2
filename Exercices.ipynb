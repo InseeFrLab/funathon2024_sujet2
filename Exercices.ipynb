{
 "cells": [
  {
   "cell_type": "code",
   "execution_count": 8,
   "metadata": {},
   "outputs": [
    {
     "name": "stdout",
     "output_type": "stream",
     "text": [
      "{2018: 'https://www.data.gouv.fr/fr/datasets/r/3b7646ea-276c-4c9b-8151-1e96af2adbf9', 2019: 'https://www.data.gouv.fr/fr/datasets/r/e8efa154-045e-4f8f-a1d7-76a39fa03b7b', 2020: 'https://www.data.gouv.fr/fr/datasets/r/6717f107-be00-4b4b-9706-fa0e5190fb69', 2021: 'https://www.data.gouv.fr/fr/datasets/r/2f9f6e54-e2d7-4e85-b811-2e5e68fa5bca', 2022: 'https://www.data.gouv.fr/fr/datasets/r/f1bd931e-c99e-41ce-865e-9e9785c903ec'}\n"
     ]
    }
   ],
   "source": [
    "import yaml\n",
    "with open(\"./sources.yml\", 'r') as f:\n",
    "    yaml_data = yaml.load(f, Loader=yaml.FullLoader)\n",
    "\n",
    "print(yaml_data[\"airports\"])\n",
    "\n"
   ]
  },
  {
   "cell_type": "code",
   "execution_count": 9,
   "metadata": {},
   "outputs": [],
   "source": [
    "def create_data_list(source_file):\n",
    "    with open(source_file, 'r') as f:\n",
    "        yaml_data = yaml.safe_load(f)\n",
    "    \n",
    "    return(yaml_data)\n",
    "\n",
    "\n",
    "yaml_data = create_data_list(\"sources.yml\")"
   ]
  },
  {
   "cell_type": "code",
   "execution_count": 10,
   "metadata": {},
   "outputs": [
    {
     "ename": "ModuleNotFoundError",
     "evalue": "No module named 'src.create_data_list'",
     "output_type": "error",
     "traceback": [
      "\u001b[0;31m---------------------------------------------------------------------------\u001b[0m",
      "\u001b[0;31mModuleNotFoundError\u001b[0m                       Traceback (most recent call last)",
      "Cell \u001b[0;32mIn[10], line 1\u001b[0m\n\u001b[0;32m----> 1\u001b[0m \u001b[38;5;28;01mfrom\u001b[39;00m \u001b[38;5;21;01msrc\u001b[39;00m\u001b[38;5;21;01m.\u001b[39;00m\u001b[38;5;21;01mcreate_data_list\u001b[39;00m \u001b[38;5;28;01mimport\u001b[39;00m create_data_list\n\u001b[1;32m      2\u001b[0m urls \u001b[38;5;241m=\u001b[39m create_data_list(\u001b[38;5;124m\"\u001b[39m\u001b[38;5;124msources.yml\u001b[39m\u001b[38;5;124m\"\u001b[39m)\n",
      "\u001b[0;31mModuleNotFoundError\u001b[0m: No module named 'src.create_data_list'"
     ]
    }
   ],
   "source": [
    "from src.create_data_list import create_data_list\n",
    "urls = create_data_list(\"sources.yml\")"
   ]
  },
  {
   "cell_type": "code",
   "execution_count": null,
   "metadata": {},
   "outputs": [],
   "source": [
    "import pandas as pd\n",
    "\n",
    "data = pd.read_csv(\n",
    "    yaml_data[\"airports\"][2018], \n",
    "    delimiter = ';',\n",
    "    dtype = {\n",
    "        \"ANMOIS\": \"str\",  \n",
    "        \"APT\": \"str\",     \n",
    "        \"APT_NOM\": \"str\", \n",
    "        \"APT_ZON\": \"str\",\n",
    "    }\n",
    ")\n",
    "\n",
    "data[\"an\"] = data[\"ANMOIS\"].str.slice(stop=4)\n",
    "data[\"mois\"] = data[\"ANMOIS\"].str.slice(start=4).str.replace('^0', '', regex=True)\n",
    "data.head()"
   ]
  },
  {
   "cell_type": "code",
   "execution_count": null,
   "metadata": {},
   "outputs": [],
   "source": [
    "def clean_dataframe(df):\n",
    "    df[\"an\"]   = df[\"ANMOIS\"].str.slice(stop=4)\n",
    "    df[\"mois\"] = df[\"ANMOIS\"].str.slice(start=4).str.replace('^0', '', regex=True)\n",
    "\n",
    "    df.columns = [x.lower() for x in df.columns]\n",
    "\n",
    "    return(df)"
   ]
  },
  {
   "cell_type": "code",
   "execution_count": null,
   "metadata": {},
   "outputs": [],
   "source": [
    "def import_airport_data(list_files):\n",
    "    \n",
    "    data = pd.concat([\n",
    "        pd.read_csv(\n",
    "            file, \n",
    "            delimiter = ';',\n",
    "            dtype = {\n",
    "                \"ANMOIS\":  \"str\",  \n",
    "                \"APT\":     \"str\",     \n",
    "                \"APT_NOM\": \"str\", \n",
    "                \"APT_ZON\": \"str\",\n",
    "            }\n",
    "        )\n",
    "        for file in list_files])\n",
    "\n",
    "\n",
    "    data_final = clean_dataframe(data)\n",
    "\n",
    "    return(data_final)\n",
    "\n",
    "pax_apt_all = import_airport_data(list(yaml_data[\"airports\"].values()))\n",
    "pax_apt_all.head()\n"
   ]
  },
  {
   "cell_type": "markdown",
   "metadata": {},
   "source": []
  },
  {
   "cell_type": "markdown",
   "metadata": {},
   "source": [
    "# Partie 3"
   ]
  },
  {
   "cell_type": "code",
   "execution_count": null,
   "metadata": {},
   "outputs": [],
   "source": [
    "import geopandas as gpd"
   ]
  },
  {
   "cell_type": "code",
   "execution_count": null,
   "metadata": {},
   "outputs": [],
   "source": [
    "airports_location = gpd.read_file(urls['geojson']['airport'])"
   ]
  },
  {
   "cell_type": "code",
   "execution_count": null,
   "metadata": {},
   "outputs": [],
   "source": [
    " airports_location.geometry.crs "
   ]
  },
  {
   "cell_type": "code",
   "execution_count": null,
   "metadata": {},
   "outputs": [],
   "source": [
    "import folium \n",
    "m = folium.Map()\n",
    "\n",
    "folium.GeoJson(airports_location).add_to(m)\n",
    "m"
   ]
  },
  {
   "cell_type": "code",
   "execution_count": null,
   "metadata": {},
   "outputs": [],
   "source": [
    "import requests\n",
    "\n",
    "m = folium.Map(tiles=\"Test airport\")\n",
    "\n",
    "geojson_data = requests.get(\n",
    "    \"https://raw.githubusercontent.com/python-visualization/folium-example-data/main/world_countries.json\"\n",
    ").json()\n",
    "\n",
    "folium.GeoJson(geojson_data, name=\"hello world\").add_to(m)\n",
    "\n",
    "folium.LayerControl().add_to(m)"
   ]
  },
  {
   "cell_type": "code",
   "execution_count": null,
   "metadata": {},
   "outputs": [],
   "source": [
    "import src.import_data as sid"
   ]
  },
  {
   "cell_type": "code",
   "execution_count": null,
   "metadata": {},
   "outputs": [],
   "source": [
    "# Exercice 3\n",
    "liste_aeroports = pax_apt_all['apt'].unique()\n",
    "default_airport = liste_aeroports[0]\n",
    "default_airport"
   ]
  },
  {
   "cell_type": "code",
   "execution_count": null,
   "metadata": {},
   "outputs": [],
   "source": [
    "pax_apt_all = import_airport_data(list(yaml_data[\"airports\"].values()))\n",
    "\n",
    "pax_apt_all.loc[:, \"trafic\"] = pax_apt_all[\"apt_pax_dep\"] + pax_apt_all[\"apt_pax_tr\"] + pax_apt_all[\"apt_pax_arr\"]\n",
    "\n",
    "pax_apt_all2 = pax_apt_all.query(\"apt == @default_airport\")\n",
    "\n",
    "pax_apt_all2.loc[:, \"date\"] = pd.to_datetime(dict(year=pax_apt_all2.an, month=pax_apt_all2.mois, day = 1))\n",
    "pax_apt_all2"
   ]
  },
  {
   "cell_type": "code",
   "execution_count": null,
   "metadata": {},
   "outputs": [],
   "source": [
    "import plotnine as p9\n",
    "\n",
    "(\n",
    "    p9.ggplot(pax_apt_all2, p9.aes(\"date\", \"trafic\"))\n",
    "    + p9.geom_line()\n",
    ")\n"
   ]
  },
  {
   "cell_type": "code",
   "execution_count": null,
   "metadata": {},
   "outputs": [],
   "source": [
    "import plotly.express as px\n",
    "\n",
    "figure_plotly = px.line(\n",
    "  pax_apt_all2, x=\"date\", y=\"trafic\",\n",
    "  text=\"apt_nom\"\n",
    ")\n",
    "figure_plotly.update_traces(\n",
    "  mode=\"markers+lines\", type = \"scatter\",\n",
    "  hovertemplate=\"<i>Aéroport:</i> %{text}<br>Trafic: %{y}\"\n",
    ")"
   ]
  },
  {
   "cell_type": "code",
   "execution_count": null,
   "metadata": {},
   "outputs": [],
   "source": [
    "def plot_airport_line(df = None, airport = None):\n",
    "\n",
    "    data = df.query(\"apt == @airport\")\n",
    "\n",
    "    figure_plotly = px.line(\n",
    "    data, x=\"date\", y=\"trafic\",\n",
    "    text=\"apt_nom\"\n",
    "    )\n",
    "    figure_plotly.update_traces(\n",
    "    mode=\"markers+lines\", type = \"scatter\",\n",
    "    hovertemplate=\"<i>Aéroport:</i> %{text}<br>Trafic: %{y}\"\n",
    "    )\n",
    "    \n",
    "    return(figure_plotly)"
   ]
  },
  {
   "cell_type": "code",
   "execution_count": null,
   "metadata": {},
   "outputs": [],
   "source": []
  },
  {
   "cell_type": "code",
   "execution_count": null,
   "metadata": {},
   "outputs": [],
   "source": []
  },
  {
   "cell_type": "code",
   "execution_count": null,
   "metadata": {},
   "outputs": [],
   "source": []
  },
  {
   "cell_type": "code",
   "execution_count": null,
   "metadata": {},
   "outputs": [],
   "source": []
  },
  {
   "cell_type": "code",
   "execution_count": null,
   "metadata": {},
   "outputs": [],
   "source": []
  },
  {
   "cell_type": "code",
   "execution_count": null,
   "metadata": {},
   "outputs": [],
   "source": []
  },
  {
   "cell_type": "code",
   "execution_count": null,
   "metadata": {},
   "outputs": [],
   "source": []
  },
  {
   "cell_type": "code",
   "execution_count": null,
   "metadata": {},
   "outputs": [],
   "source": []
  },
  {
   "cell_type": "code",
   "execution_count": null,
   "metadata": {},
   "outputs": [],
   "source": []
  },
  {
   "cell_type": "code",
   "execution_count": null,
   "metadata": {},
   "outputs": [],
   "source": []
  }
 ],
 "metadata": {
  "kernelspec": {
   "display_name": "base",
   "language": "python",
   "name": "python3"
  },
  "language_info": {
   "codemirror_mode": {
    "name": "ipython",
    "version": 3
   },
   "file_extension": ".py",
   "mimetype": "text/x-python",
   "name": "python",
   "nbconvert_exporter": "python",
   "pygments_lexer": "ipython3",
   "version": "3.12.3"
  }
 },
 "nbformat": 4,
 "nbformat_minor": 2
}
